{
 "cells": [
  {
   "cell_type": "markdown",
   "metadata": {},
   "source": [
    "A friend of mine claimed on Facebook:\n",
    "\n",
    "> It was recently suggested that the NBA finals were rigged, perhaps to increase television ratings. So I did a simple analysis - suppose each game is a coin flip and each team has a 50% chance of winning each game. What is the expected distribution for the lengths the finals will go and how does it compare with reality?\n",
    "\n",
    "> A simple calculation reveals P(4) = 8/64, P(5) = 16/64, P(6) = 20/64 and P(7) = 20/64.\n",
    "> How does this compare with history? Out of 67 series n(4) = 8, n(5) = 16, n(6) = 24 and n(7) = 19 so pretty damn close to the shitty coin flip model.\n",
    "\n",
    "> TL:DR - a simple statistical model suggests the nba finals are not rigged\n",
    "\n",
    "3 things:\n",
    "\n",
    "1. I know nothing about basketball.\n",
    "2. I don't think that anybody's rigging games.\n",
    "3. Let's examine this claim closer."
   ]
  },
  {
   "cell_type": "code",
   "execution_count": 6,
   "metadata": {
    "collapsed": true
   },
   "outputs": [],
   "source": [
    "%matplotlib inline\n",
    "\n",
    "# Standard imports.\n",
    "import numpy as np\n",
    "import pylab\n",
    "import scipy\n",
    "import pandas as pd\n",
    "import seaborn as sns\n",
    "import matplotlib.pyplot as plt\n",
    "\n",
    "# Resize plots.\n",
    "pylab.rcParams['figure.figsize'] = 8, 4"
   ]
  },
  {
   "cell_type": "code",
   "execution_count": 103,
   "metadata": {
    "collapsed": false
   },
   "outputs": [
    {
     "data": {
      "text/plain": [
       "<matplotlib.text.Text at 0x7f91d84b8cd0>"
      ]
     },
     "execution_count": 103,
     "metadata": {},
     "output_type": "execute_result"
    },
    {
     "data": {
      "image/png": "[encoded data removed]",
      "text/plain": [
       "<matplotlib.figure.Figure at 0x7f91d81bcd50>"
      ]
     },
     "metadata": {},
     "output_type": "display_data"
    }
   ],
   "source": [
    "# Simulate 1000 series\n",
    "game_lengths = []\n",
    "for i in range(10000):\n",
    "    wins_a = 0\n",
    "    wins_b = 0\n",
    "    for j in range(7):\n",
    "        winning_team = np.random.rand() > .5\n",
    "        if winning_team:\n",
    "            wins_b += 1\n",
    "        else:\n",
    "            wins_a += 1\n",
    "    \n",
    "        if wins_a >= 4 or wins_b >= 4:\n",
    "            break\n",
    "    game_lengths.append(j + 1)\n",
    "    continue\n",
    "        \n",
    "game_lengths = np.array(game_lengths)\n",
    "plt.hist(game_lengths)\n",
    "_ = plt.title('Game lengths under null hypothesis')\n",
    "plt.xlabel('Game lengths')"
   ]
  },
  {
   "cell_type": "code",
   "execution_count": 104,
   "metadata": {
    "collapsed": false
   },
   "outputs": [
    {
     "name": "stdout",
     "output_type": "stream",
     "text": [
      "5.8202\n"
     ]
    }
   ],
   "source": [
    "print game_lengths.mean()"
   ]
  },
  {
   "cell_type": "markdown",
   "metadata": {},
   "source": [
    "Indeed, the coin flip model predicts that the distribution of game weights will have a lot of bulk around 6 and 7 games. What about historical games?"
   ]
  },
  {
   "cell_type": "code",
   "execution_count": 105,
   "metadata": {
    "collapsed": false
   },
   "outputs": [
    {
     "data": {
      "image/png": "[encoded data removed]",
      "text/plain": [
       "<matplotlib.figure.Figure at 0x7f91d82a6fd0>"
      ]
     },
     "metadata": {},
     "output_type": "display_data"
    }
   ],
   "source": [
    "game_lengths_historical = np.hstack(([4] * 8, [5] * 16, [6] * 24, [7] * 19))\n",
    "plt.hist(game_lengths_historical)\n",
    "_ = plt.title('Historical game lengths')"
   ]
  },
  {
   "cell_type": "code",
   "execution_count": 106,
   "metadata": {
    "collapsed": false
   },
   "outputs": [
    {
     "name": "stdout",
     "output_type": "stream",
     "text": [
      "5.80597014925\n"
     ]
    }
   ],
   "source": [
    "print game_lengths_historical.mean()"
   ]
  },
  {
   "cell_type": "markdown",
   "metadata": {},
   "source": [
    "In fact, the historical game distribution indicates that the playoffs are slightly shorter than expected by chance. Does that mean that historical games haven't been rigged? Well, for one thing, you have to think about might cause game lengths to be shorter: blowouts. If one team is way better than the other, you would expect the series to be shorter than 7. In fact, the simulation with p = .5 represents the most extreme scenario, where every final is between two teams of exactly equal ability. \n",
    "\n",
    "That is almost certainly never the case; consider the Boston Celtics winning streak of the 60's - they must have been much stronger than any other team! We can estimate the (implied) probability of winning from sports betting data. Sports betters have every incentive to produce calibrated predictions, because it directly impacts their bottom line.\n",
    "\n",
    "I looked at the moneylines from 2004 - 2015:\n",
    "\n",
    "http://www.oddsshark.com/nba/nba-finals-historical-series-odds-list"
   ]
  },
  {
   "cell_type": "code",
   "execution_count": 22,
   "metadata": {
    "collapsed": false
   },
   "outputs": [
    {
     "data": {
      "text/html": [
       "<div>\n",
       "<table border=\"1\" class=\"dataframe\">\n",
       "  <thead>\n",
       "    <tr style=\"text-align: right;\">\n",
       "      <th></th>\n",
       "      <th>year</th>\n",
       "      <th>west</th>\n",
       "      <th>west_moneyline</th>\n",
       "      <th>east</th>\n",
       "      <th>east_moneyline</th>\n",
       "    </tr>\n",
       "  </thead>\n",
       "  <tbody>\n",
       "    <tr>\n",
       "      <th>0</th>\n",
       "      <td>2015</td>\n",
       "      <td>Golden State</td>\n",
       "      <td>-190</td>\n",
       "      <td>Cleveland</td>\n",
       "      <td>170</td>\n",
       "    </tr>\n",
       "    <tr>\n",
       "      <th>1</th>\n",
       "      <td>2014</td>\n",
       "      <td>San Antonio</td>\n",
       "      <td>-125</td>\n",
       "      <td>Miami</td>\n",
       "      <td>105</td>\n",
       "    </tr>\n",
       "    <tr>\n",
       "      <th>2</th>\n",
       "      <td>2013</td>\n",
       "      <td>San Antonio</td>\n",
       "      <td>200</td>\n",
       "      <td>Miami</td>\n",
       "      <td>-240</td>\n",
       "    </tr>\n",
       "    <tr>\n",
       "      <th>3</th>\n",
       "      <td>2012</td>\n",
       "      <td>Oklahoma City</td>\n",
       "      <td>-160</td>\n",
       "      <td>Miami</td>\n",
       "      <td>140</td>\n",
       "    </tr>\n",
       "    <tr>\n",
       "      <th>4</th>\n",
       "      <td>2011</td>\n",
       "      <td>Dallas</td>\n",
       "      <td>160</td>\n",
       "      <td>Miami</td>\n",
       "      <td>-180</td>\n",
       "    </tr>\n",
       "    <tr>\n",
       "      <th>5</th>\n",
       "      <td>2010</td>\n",
       "      <td>LA Lakers</td>\n",
       "      <td>-180</td>\n",
       "      <td>Boston</td>\n",
       "      <td>160</td>\n",
       "    </tr>\n",
       "    <tr>\n",
       "      <th>6</th>\n",
       "      <td>2009</td>\n",
       "      <td>LA Lakers</td>\n",
       "      <td>-290</td>\n",
       "      <td>Orlando</td>\n",
       "      <td>240</td>\n",
       "    </tr>\n",
       "    <tr>\n",
       "      <th>7</th>\n",
       "      <td>2008</td>\n",
       "      <td>LA Lakers</td>\n",
       "      <td>-120</td>\n",
       "      <td>Boston</td>\n",
       "      <td>100</td>\n",
       "    </tr>\n",
       "    <tr>\n",
       "      <th>8</th>\n",
       "      <td>2007</td>\n",
       "      <td>San Antonio</td>\n",
       "      <td>-500</td>\n",
       "      <td>Cleveland</td>\n",
       "      <td>350</td>\n",
       "    </tr>\n",
       "    <tr>\n",
       "      <th>9</th>\n",
       "      <td>2006</td>\n",
       "      <td>Dallas</td>\n",
       "      <td>-145</td>\n",
       "      <td>Miami</td>\n",
       "      <td>125</td>\n",
       "    </tr>\n",
       "    <tr>\n",
       "      <th>10</th>\n",
       "      <td>2005</td>\n",
       "      <td>San Antonio</td>\n",
       "      <td>-180</td>\n",
       "      <td>Detroit</td>\n",
       "      <td>160</td>\n",
       "    </tr>\n",
       "    <tr>\n",
       "      <th>11</th>\n",
       "      <td>2004</td>\n",
       "      <td>LA Lakers</td>\n",
       "      <td>-550</td>\n",
       "      <td>Detroit</td>\n",
       "      <td>400</td>\n",
       "    </tr>\n",
       "  </tbody>\n",
       "</table>\n",
       "</div>"
      ],
      "text/plain": [
       "    year           west  west_moneyline       east  east_moneyline\n",
       "0   2015   Golden State            -190  Cleveland             170\n",
       "1   2014    San Antonio            -125      Miami             105\n",
       "2   2013    San Antonio             200      Miami            -240\n",
       "3   2012  Oklahoma City            -160      Miami             140\n",
       "4   2011         Dallas             160      Miami            -180\n",
       "5   2010      LA Lakers            -180     Boston             160\n",
       "6   2009      LA Lakers            -290    Orlando             240\n",
       "7   2008      LA Lakers            -120     Boston             100\n",
       "8   2007    San Antonio            -500  Cleveland             350\n",
       "9   2006         Dallas            -145      Miami             125\n",
       "10  2005    San Antonio            -180    Detroit             160\n",
       "11  2004      LA Lakers            -550    Detroit             400"
      ]
     },
     "execution_count": 22,
     "metadata": {},
     "output_type": "execute_result"
    }
   ],
   "source": [
    "dfs = pd.read_html('http://www.oddsshark.com/nba/nba-finals-historical-series-odds-list')\n",
    "df = dfs[0]\n",
    "\n",
    "df.columns = pd.Index(['year', 'west', 'west_moneyline', 'east', 'east_moneyline'])\n",
    "df"
   ]
  },
  {
   "cell_type": "markdown",
   "metadata": {},
   "source": [
    "I had a quick read through of:\n",
    "\n",
    "http://www.bettingexpert.com/how-to/convert-odds\n",
    "\n",
    "To transform these values into odds. Let's see what we get:"
   ]
  },
  {
   "cell_type": "code",
   "execution_count": 32,
   "metadata": {
    "collapsed": false
   },
   "outputs": [
    {
     "data": {
      "text/plain": [
       "<matplotlib.text.Text at 0x7f91daa723d0>"
      ]
     },
     "execution_count": 32,
     "metadata": {},
     "output_type": "execute_result"
    },
    {
     "data": {
      "image/png": "[encoded data removed]",
      "text/plain": [
       "<matplotlib.figure.Figure at 0x7f91da3f2b90>"
      ]
     },
     "metadata": {},
     "output_type": "display_data"
    }
   ],
   "source": [
    "def moneyline_to_odds(val):\n",
    "    if val < 0:\n",
    "        return -val / (-val + 100.0)\n",
    "    else:\n",
    "        return 100 / (val + 100.0)\n",
    "\n",
    "mean_odds = (df.west_moneyline.map(moneyline_to_odds) - \n",
    "             df.east_moneyline.map(moneyline_to_odds)\n",
    "             + 1) / 2.0\n",
    "\n",
    "plt.hist(mean_odds, np.arange(21) / 20.0)\n",
    "plt.title('Implied west conference winning odds')"
   ]
  },
  {
   "cell_type": "markdown",
   "metadata": {},
   "source": [
    "This is clearly not a delta distribution around 0.5 - there are favorites and underdogs. Let's fit this function to a beta distribution by eyeballing (the distribution has no particular signifiance here - it's just a convenience."
   ]
  },
  {
   "cell_type": "code",
   "execution_count": 56,
   "metadata": {
    "collapsed": false
   },
   "outputs": [
    {
     "data": {
      "text/plain": [
       "<matplotlib.text.Text at 0x7f91dacdc490>"
      ]
     },
     "execution_count": 56,
     "metadata": {},
     "output_type": "execute_result"
    },
    {
     "data": {
      "image/png": "[encoded data removed]",
      "text/plain": [
       "<matplotlib.figure.Figure at 0x7f91da322150>"
      ]
     },
     "metadata": {},
     "output_type": "display_data"
    }
   ],
   "source": [
    "# Remove the West conference bias by flipping the sign of the odds at random.\n",
    "alphas = np.zeros(25)\n",
    "for n in range(25):\n",
    "    flip_bits = np.random.rand(mean_odds.size) > .5\n",
    "    mean_odds_shuffled = mean_odds * flip_bits + (1 - flip_bits) * (1 - mean_odds)\n",
    "    alpha, beta, _, _ = scipy.stats.beta.fit(mean_odds_shuffled)\n",
    "    # Symmetrize the result to have a mean of .5\n",
    "    alphas[n] = ((alpha + beta)/2)\n",
    "\n",
    "alpha = np.array(alphas).mean()\n",
    "plt.hist(mean_odds_shuffled, np.arange(21) / 20.0)\n",
    "x = np.arange(101) / 100.0\n",
    "y = scipy.stats.beta.pdf(x, 1 + alpha, 1 + alpha) * 1.0\n",
    "plt.plot(x, y, 'r-')\n",
    "plt.legend(['observations', 'Fitted distribution'])\n",
    "plt.title('Implied winning odds (east/west randomized)')"
   ]
  },
  {
   "cell_type": "markdown",
   "metadata": {},
   "source": [
    "The fitted distribution is pretty broad -- but that's a distribution for the whole series of 6 games. If your win percentage for the whole series is 60%, what is it for a single game? Let's find out:"
   ]
  },
  {
   "cell_type": "code",
   "execution_count": null,
   "metadata": {
    "collapsed": true
   },
   "outputs": [],
   "source": [
    "game_win_percentages = np.arange(.5, 1, .01)\n",
    "series_win_percentages = np.zeros_like(game_win_percentages)\n",
    "\n",
    "Nsims = 4000\n",
    "for k, frac in enumerate(game_win_percentages):\n",
    "    wins = 0\n",
    "    for i in range(Nsims):\n",
    "        wins_a = 0\n",
    "        wins_b = 0\n",
    "        for j in range(7):\n",
    "            winning_team = np.random.rand() > frac\n",
    "            if winning_team:\n",
    "                wins_b += 1\n",
    "            else:\n",
    "                wins_a += 1\n",
    "                \n",
    "            if wins_a == 4 or wins_b == 4:\n",
    "                break\n",
    "        wins += (wins_a == 4) * 1\n",
    "    series_win_percentages[k] = wins / float(Nsims)\n",
    "    "
   ]
  },
  {
   "cell_type": "code",
   "execution_count": 89,
   "metadata": {
    "collapsed": false
   },
   "outputs": [
    {
     "data": {
      "text/plain": [
       "<matplotlib.legend.Legend at 0x7f91d86c6710>"
      ]
     },
     "execution_count": 89,
     "metadata": {},
     "output_type": "execute_result"
    },
    {
     "data": {
      "image/png": "[encoded data removed]",
      "text/plain": [
       "<matplotlib.figure.Figure at 0x7f91d8d2ffd0>"
      ]
     },
     "metadata": {},
     "output_type": "display_data"
    }
   ],
   "source": [
    "def logit(p):\n",
    "    return np.log(p / (1 - p))\n",
    "\n",
    "def logistic(x):\n",
    "    \"\"\"Returns the logistic of the numeric argument to the function.\"\"\" \n",
    "    return 1 / (1 + np.exp(-x))\n",
    "\n",
    "plt.plot(game_win_percentages, series_win_percentages)\n",
    "\n",
    "# Fit a logistic function by eye balling.\n",
    "plt.plot(game_win_percentages, logistic(2.3*logit(game_win_percentages)))\n",
    "plt.xlabel('game win percentage')\n",
    "plt.ylabel('series win percentage')\n",
    "plt.legend(['empirical', 'curve fit'])"
   ]
  },
  {
   "cell_type": "markdown",
   "metadata": {},
   "source": [
    "We see that a series amplifies the signal as to which team is best or not - if a team has 70% odds of winning per game, that means they have a 90% chance of winning the series! Let's run a simulation to see the distribution of game lengths under this more subtle model."
   ]
  },
  {
   "cell_type": "code",
   "execution_count": 93,
   "metadata": {
    "collapsed": false
   },
   "outputs": [],
   "source": [
    "def inverse_map(y):\n",
    "    x = logistic(1 / 2.3 * logit(y))\n",
    "    return x\n",
    "assert np.allclose(inverse_map(logistic(2.3*logit(game_win_percentages))),\n",
    "                   game_win_percentages)"
   ]
  },
  {
   "cell_type": "code",
   "execution_count": 97,
   "metadata": {
    "collapsed": false
   },
   "outputs": [
    {
     "data": {
      "text/plain": [
       "(array([  32.,   92.,  100.,  141.,  141.,  127.,  133.,  126.,   70.,   38.]),\n",
       " array([ 0.00872055,  0.10706501,  0.20540948,  0.30375394,  0.4020984 ,\n",
       "         0.50044286,  0.59878733,  0.69713179,  0.79547625,  0.89382072,\n",
       "         0.99216518]),\n",
       " <a list of 10 Patch objects>)"
      ]
     },
     "execution_count": 97,
     "metadata": {},
     "output_type": "execute_result"
    },
    {
     "data": {
      "image/png": "[encoded data removed]",
      "text/plain": [
       "<matplotlib.figure.Figure at 0x7f91d88315d0>"
      ]
     },
     "metadata": {},
     "output_type": "display_data"
    }
   ],
   "source": [
    "plt.hist(np.random.beta(alpha + 1, alpha + 1, 1000))"
   ]
  },
  {
   "cell_type": "code",
   "execution_count": 114,
   "metadata": {
    "collapsed": false
   },
   "outputs": [
    {
     "data": {
      "text/plain": [
       "<matplotlib.text.Text at 0x7f91d7fb60d0>"
      ]
     },
     "execution_count": 114,
     "metadata": {},
     "output_type": "execute_result"
    },
    {
     "data": {
      "image/png": "[encoded data removed]",
      "text/plain": [
       "<matplotlib.figure.Figure at 0x7f91d80e1350>"
      ]
     },
     "metadata": {},
     "output_type": "display_data"
    }
   ],
   "source": [
    "# Simulate 1000 series\n",
    "game_lengths = []\n",
    "for i in range(10000):\n",
    "    # Pick a per series win percentage\n",
    "    series_win_percentage = np.random.beta(alpha + 1, alpha + 1)\n",
    "    # Transform to a per-game win percentage\n",
    "    game_win_percentage = inverse_map(series_win_percentage)\n",
    "    wins_a = 0\n",
    "    wins_b = 0\n",
    "    for j in range(7):\n",
    "        winning_team = np.random.rand() > game_win_percentage\n",
    "        if winning_team:\n",
    "            wins_b += 1\n",
    "        else:\n",
    "            wins_a += 1\n",
    "    \n",
    "        if wins_a >= 4 or wins_b >= 4:\n",
    "            break\n",
    "    game_lengths.append(j + 1)\n",
    "    continue\n",
    "        \n",
    "game_lengths = np.array(game_lengths)\n",
    "plt.hist(game_lengths)\n",
    "_ = plt.title('Game lengths under (more sophisticated) null hypothesis')\n",
    "plt.xlabel('Game length')"
   ]
  },
  {
   "cell_type": "code",
   "execution_count": 100,
   "metadata": {
    "collapsed": false
   },
   "outputs": [
    {
     "data": {
      "text/plain": [
       "5.6535000000000002"
      ]
     },
     "execution_count": 100,
     "metadata": {},
     "output_type": "execute_result"
    }
   ],
   "source": [
    "game_lengths.mean()"
   ]
  },
  {
   "cell_type": "markdown",
   "metadata": {},
   "source": [
    "There is some movement towards shorter series in this simulation - series are shorter than observed in reality by about one game per 6 years. This is significant, however:"
   ]
  },
  {
   "cell_type": "code",
   "execution_count": 115,
   "metadata": {
    "collapsed": false
   },
   "outputs": [
    {
     "name": "stdout",
     "output_type": "stream",
     "text": [
      "Simulated series length is 5.66\n",
      "95% CI for observed series length is [5.57, 6.04]\n"
     ]
    }
   ],
   "source": [
    "m = game_lengths_historical.mean()\n",
    "ci = game_lengths_historical.std() / np.sqrt(float(game_lengths_historical.size))\n",
    "\n",
    "print \"Simulated series length is %.2f\" % game_lengths.mean()\n",
    "print \"95%% CI for observed series length is [%.2f, %.2f]\" % (m - 1.96*ci, m + 1.96*ci)"
   ]
  },
  {
   "cell_type": "markdown",
   "metadata": {},
   "source": [
    "That's not significant. Although 5.66 is on the low side of the distribution, decreasing the size of these error bars and declaring significance - and foul play! - would take decades! \n",
    "\n",
    "There's other processes that might contribute to increasing the series length - the most likely of which is the home effect. To see this, recall that for the first 4 games, two games are played at one team's stadium, and 2 others are played at the other teams stadium. If you have two teams which are exactly even, but which win 70% of home games, it's more likely that you'll end up 2-2 at the end of the 4 games than without a home team advantage:"
   ]
  },
  {
   "cell_type": "code",
   "execution_count": 134,
   "metadata": {
    "collapsed": false
   },
   "outputs": [
    {
     "data": {
      "text/plain": [
       "(0, 4500)"
      ]
     },
     "execution_count": 134,
     "metadata": {},
     "output_type": "execute_result"
    },
    {
     "data": {
      "image/png": "[encoded data removed]",
      "text/plain": [
       "<matplotlib.figure.Figure at 0x7f91d6c90c50>"
      ]
     },
     "metadata": {},
     "output_type": "display_data"
    }
   ],
   "source": [
    "plt.subplot(121)\n",
    "plt.hist(np.random.binomial(4, 0.5, size = (10000)), np.arange(6) - .5)\n",
    "plt.title('Games won by team A\\nno home team advantage')\n",
    "plt.ylim([0, 4500])\n",
    "\n",
    "plt.subplot(122)\n",
    "plt.hist(np.random.binomial(2, 0.7, size = (10000)) + \n",
    "         np.random.binomial(2, 0.3, size = (10000)), np.arange(6) - .5)\n",
    "plt.title('Games won by team A\\nwith home team advantage')\n",
    "plt.ylim([0, 4500])"
   ]
  },
  {
   "cell_type": "markdown",
   "metadata": {},
   "source": [
    "[70% is much higher than the home team advantage we see these days](http://espn.go.com/nba/story/_/id/12241619/home-court-advantage-decline), but it will nevertheless make series longer. In any case, it would decades, with these methods, to measure any sort of foul play creating longer series; this is a job for investigative reporter, not a statistician!"
   ]
  }
 ],
 "metadata": {
  "kernelspec": {
   "display_name": "Python 2",
   "language": "python",
   "name": "python2"
  },
  "language_info": {
   "codemirror_mode": {
    "name": "ipython",
    "version": 2
   },
   "file_extension": ".py",
   "mimetype": "text/x-python",
   "name": "python",
   "nbconvert_exporter": "python",
   "pygments_lexer": "ipython2",
   "version": "2.7.6"
  }
 },
 "nbformat": 4,
 "nbformat_minor": 0
}
